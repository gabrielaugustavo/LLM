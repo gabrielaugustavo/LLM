{
  "nbformat": 4,
  "nbformat_minor": 0,
  "metadata": {
    "colab": {
      "private_outputs": true,
      "provenance": [],
      "include_colab_link": true
    },
    "kernelspec": {
      "name": "python3",
      "display_name": "Python 3"
    },
    "language_info": {
      "name": "python"
    }
  },
  "cells": [
    {
      "cell_type": "markdown",
      "metadata": {
        "id": "view-in-github",
        "colab_type": "text"
      },
      "source": [
        "<a href=\"https://colab.research.google.com/github/gabrielaugustavo/LLM/blob/main/GSI073_aula0_support_vector_machine.ipynb\" target=\"_parent\"><img src=\"https://colab.research.google.com/assets/colab-badge.svg\" alt=\"Open In Colab\"/></a>"
      ]
    },
    {
      "cell_type": "markdown",
      "source": [
        "# GSI073 - Tópicos Especiais de Inteligência Artificial\n",
        "\n",
        "Neste notebook, um tipo de Support Vector Machine Linear.\n",
        "\n",
        "\n",
        "## Preparação dos dados"
      ],
      "metadata": {
        "id": "Mwsc0ViVertv"
      }
    },
    {
      "cell_type": "code",
      "execution_count": null,
      "metadata": {
        "id": "OmZxMYLGefOh"
      },
      "outputs": [],
      "source": [
        "import torch\n",
        "import torch.nn as nn\n",
        "import torch.optim as optim\n",
        "import sklearn\n",
        "from sklearn.model_selection import train_test_split\n",
        "import numpy as np\n",
        "from sklearn.metrics import roc_curve, auc\n",
        "import matplotlib.pyplot as plt\n",
        "\n",
        "# 1. Carregar dados\n",
        "iris = sklearn.datasets.load_iris()\n",
        "X = iris.data\n",
        "y = np.where(y == 1, 1., -1.)\n",
        "\n",
        "# 2. Preparar dados\n",
        "X_train, X_test, y_train, y_test = train_test_split(\n",
        "    X, y, test_size=0.10, random_state=44, stratify=y\n",
        ")\n",
        "\n",
        "X_train = torch.from_numpy(X_train).float()\n",
        "y_train = torch.from_numpy(y_train).float().view(-1, 1)\n",
        "\n",
        "X_test = torch.from_numpy(X_test).float()\n",
        "y_test = torch.from_numpy(y_test).float().view(-1, 1)"
      ]
    },
    {
      "cell_type": "markdown",
      "source": [
        "A nossa Support Vector Machine é basicamente um hiperplano definido por *w* e *b* que melhor separa as classes."
      ],
      "metadata": {
        "id": "nUv-LKlIe9Id"
      }
    },
    {
      "cell_type": "code",
      "source": [
        "# 5. Definir modelo SVM linear\n",
        "n_features = X_train.shape[1]\n",
        "model = nn.Linear(n_features, 1)  # inclui w e b\n",
        "C = 1.0\n",
        "learning_rate = 0.01\n",
        "epochs = 5000\n",
        "optimizer = optim.Adam(model.parameters(), lr=learning_rate)"
      ],
      "metadata": {
        "id": "eg97DxIbe0tV"
      },
      "execution_count": null,
      "outputs": []
    },
    {
      "cell_type": "markdown",
      "source": [
        "## Execução do treinamento"
      ],
      "metadata": {
        "id": "Agjn3aQxfHOO"
      }
    },
    {
      "cell_type": "code",
      "source": [
        "for epoch in range(epochs):\n",
        "    optimizer.zero_grad()\n",
        "    y_pred = model(X_train)\n",
        "\n",
        "    # Hinge loss\n",
        "    hinge_loss = torch.clamp(1 - y_train * y_pred, min=0).mean()\n",
        "\n",
        "    # Regularização (máxima margem)\n",
        "    reg_term = 0.5 * torch.sum(model.weight ** 2)\n",
        "\n",
        "    # Função objetivo\n",
        "    loss = reg_term + C * hinge_loss\n",
        "\n",
        "    # Backprop\n",
        "    loss.backward()\n",
        "    optimizer.step()\n",
        "\n",
        "    if (epoch + 1) % 500 == 0:\n",
        "        print(f\"Epoch {epoch+1}/{epochs}, Loss={loss.item():.4f}\")"
      ],
      "metadata": {
        "id": "uuksjyq7e4Mt"
      },
      "execution_count": null,
      "outputs": []
    },
    {
      "cell_type": "markdown",
      "source": [
        "Teste do Treinamento"
      ],
      "metadata": {
        "id": "7veb7g67sTgv"
      }
    },
    {
      "cell_type": "code",
      "source": [
        "# Avaliação da acurácia no conjunto de teste\n",
        "model.eval()  # desativa gradientes\n",
        "with torch.no_grad():\n",
        "    # Previsões: -1 ou +1\n",
        "    y_pred_labels = torch.sign(model(X_test))\n",
        "\n",
        "    # Comparar com y_test\n",
        "    correct = (y_pred_labels.view(-1) == y_test.view(-1)).float().sum()\n",
        "    accuracy = correct / y_test.shape[0]\n",
        "\n",
        "    print(f\"Acurácia no teste: {accuracy.item():.4f}\")\n"
      ],
      "metadata": {
        "id": "fCNuG1wfsZLh"
      },
      "execution_count": null,
      "outputs": []
    }
  ]
}