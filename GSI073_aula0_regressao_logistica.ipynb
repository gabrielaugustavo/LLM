{
  "nbformat": 4,
  "nbformat_minor": 0,
  "metadata": {
    "colab": {
      "private_outputs": true,
      "provenance": [],
      "include_colab_link": true
    },
    "kernelspec": {
      "name": "python3",
      "display_name": "Python 3"
    },
    "language_info": {
      "name": "python"
    }
  },
  "cells": [
    {
      "cell_type": "markdown",
      "metadata": {
        "id": "view-in-github",
        "colab_type": "text"
      },
      "source": [
        "<a href=\"https://colab.research.google.com/github/gabrielaugustavo/LLM/blob/main/GSI073_aula0_regressao_logistica.ipynb\" target=\"_parent\"><img src=\"https://colab.research.google.com/assets/colab-badge.svg\" alt=\"Open In Colab\"/></a>"
      ]
    },
    {
      "cell_type": "markdown",
      "source": [
        "# GSI073 - Tópicos Especiais de Inteligência Artificial\n",
        "\n",
        "## Definição dos dados"
      ],
      "metadata": {
        "id": "Mwsc0ViVertv"
      }
    },
    {
      "cell_type": "code",
      "execution_count": null,
      "metadata": {
        "id": "OmZxMYLGefOh"
      },
      "outputs": [],
      "source": [
        "import torch; import sklearn\n",
        "from sklearn.model_selection import train_test_split\n",
        "import numpy as np\n",
        "from sklearn.metrics import roc_curve, auc\n",
        "import matplotlib.pyplot as plt\n",
        "\n",
        "# 1. Carregar dados\n",
        "iris = sklearn.datasets.load_iris()\n",
        "X = iris.data        # 4 features: sépalas e pétalas\n",
        "y = (iris.target == 1).astype(float)  # 1 se Versicolor, 0 caso contrário\n",
        "\n",
        "print(X)\n",
        "# 2. Preparar dados para pytorch\n",
        "X_train, X_test, y_train, y_test = train_test_split(\n",
        "    X, y, test_size=0.10, random_state=44, stratify=y\n",
        ")\n",
        "\n",
        "X_train = torch.from_numpy(X_train).float()\n",
        "y_train = torch.from_numpy(y_train).float().view(-1, 1)\n",
        "\n",
        "X_test = torch.from_numpy(X_test).float()\n",
        "y_test = torch.from_numpy(y_test).float().view(-1, 1)\n"
      ]
    },
    {
      "cell_type": "markdown",
      "source": [
        "## Definição do modelo e treinamento"
      ],
      "metadata": {
        "id": "nUv-LKlIe9Id"
      }
    },
    {
      "cell_type": "code",
      "source": [
        "# 3. Definir modelo: regressão logística\n",
        "modelo = torch.nn.Linear(4, 1)  # 4 features → 1 saída (probabilidade de ser Versicolor)\n",
        "\n",
        "# 4. Definir função de perda e algoritmo de otimização\n",
        "funcao_perda = torch.nn.BCEWithLogitsLoss()  # combinação de sigmoid + BCE\n",
        "optimizer = torch.optim.SGD(modelo.parameters(), lr=0.1)"
      ],
      "metadata": {
        "id": "eg97DxIbe0tV"
      },
      "execution_count": null,
      "outputs": []
    },
    {
      "cell_type": "markdown",
      "source": [
        "## Execução do treinamento"
      ],
      "metadata": {
        "id": "Agjn3aQxfHOO"
      }
    },
    {
      "cell_type": "code",
      "source": [
        "# 5. Treino\n",
        "for epoch in range(5000):\n",
        "    optimizer.zero_grad() # reseta gradiente senão acumula\n",
        "    outputs = modelo(X_train)\n",
        "    loss = funcao_perda(outputs, y_train)\n",
        "    loss.backward()\n",
        "    optimizer.step()\n",
        "\n",
        "    if (epoch + 1) % 10 == 0:\n",
        "        print(f\"Época [{epoch+1}/100], Loss: {loss.item():.4f}\")"
      ],
      "metadata": {
        "id": "uuksjyq7e4Mt"
      },
      "execution_count": null,
      "outputs": []
    },
    {
      "cell_type": "code",
      "source": [
        "with torch.no_grad():\n",
        "    logits = modelo(X_test)\n",
        "    probs = torch.sigmoid(logits)\n",
        "\n",
        "    preds = (probs >= 0.5).float()  # converte probabilidade em 0 ou 1\n",
        "    print(preds)\n",
        "    acuracia = (preds.eq(y_test).sum() / y_test.shape[0]).item()\n",
        "\n",
        "print(\"\\n=== Avaliação do Modelo ===\")\n",
        "print(f\"Acurácia no conjunto de teste: {acuracia*100:.2f}%\")\n",
        "\n",
        "entrada = torch.tensor([[8, 2.7, 4.1, 1.0]], dtype=torch.float32)\n",
        "probabilidade = torch.sigmoid(modelo(entrada)).item()\n",
        "print(f\"Probabilidade de ser Versicolor: {probabilidade*100:.2f}%\")\n",
        "\n",
        "\n"
      ],
      "metadata": {
        "id": "KvxBb7eEXwI9"
      },
      "execution_count": null,
      "outputs": []
    },
    {
      "cell_type": "code",
      "source": [
        "\n",
        "with torch.no_grad():\n",
        "    logits = modelo(X_test)\n",
        "    probs = torch.sigmoid(logits).numpy().flatten()\n",
        "    y_true = y_test.numpy().flatten()\n",
        "\n",
        "\n",
        "thresholds = np.linspace(0, 1, 101)\n",
        "melhor_thresh = 0.5\n",
        "melhor_acc = 0\n",
        "\n",
        "for t in thresholds:\n",
        "    preds = (probs >= t).astype(float)\n",
        "    acc = (preds == y_true).mean()  # média dos acertos\n",
        "\n",
        "    if acc > melhor_acc:\n",
        "        melhor_acc = acc\n",
        "        melhor_thresh = t\n",
        "\n",
        "print(f\"Melhor threshold: {melhor_thresh:.2f}\")\n",
        "print(f\"Acurácia máxima: {melhor_acc*100:.2f}%\")"
      ],
      "metadata": {
        "id": "7W2fzouyddDE"
      },
      "execution_count": null,
      "outputs": []
    },
    {
      "cell_type": "code",
      "source": [
        "\n",
        "\n",
        "fpr, tpr, thresholds = roc_curve(y_true, probs)\n",
        "roc_auc = auc(fpr, tpr)\n",
        "\n",
        "plt.plot(fpr, tpr, label=f'ROC (AUC = {roc_auc:.3f})')\n",
        "plt.plot([0, 1], [0, 1], 'k--')\n",
        "plt.xlabel('False Positive Rate')\n",
        "plt.ylabel('True Positive Rate (Recall)')\n",
        "plt.title('Curva ROC')\n",
        "plt.legend()\n",
        "plt.grid(True)\n",
        "plt.show()\n"
      ],
      "metadata": {
        "id": "rCceu5Vdj-tc"
      },
      "execution_count": null,
      "outputs": []
    }
  ]
}